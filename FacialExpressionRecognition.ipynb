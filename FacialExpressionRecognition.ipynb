{
  "nbformat": 4,
  "nbformat_minor": 0,
  "metadata": {
    "colab": {
      "name": "FacialExpressionRecognition.ipynb",
      "provenance": [],
      "collapsed_sections": []
    },
    "kernelspec": {
      "name": "python3",
      "display_name": "Python 3"
    },
    "accelerator": "GPU"
  },
  "cells": [
    {
      "cell_type": "code",
      "metadata": {
        "id": "n6bTbN6ruLh1",
        "colab_type": "code",
        "colab": {
          "base_uri": "https://localhost:8080/",
          "height": 122
        },
        "outputId": "92b48222-a249-4758-e112-26f5b15bdcaf"
      },
      "source": [
        "from google.colab import drive\n",
        "drive.mount('/content/drive')"
      ],
      "execution_count": 1,
      "outputs": [
        {
          "output_type": "stream",
          "text": [
            "Go to this URL in a browser: https://accounts.google.com/o/oauth2/auth?client_id=947318989803-6bn6qk8qdgf4n4g3pfee6491hc0brc4i.apps.googleusercontent.com&redirect_uri=urn%3aietf%3awg%3aoauth%3a2.0%3aoob&response_type=code&scope=email%20https%3a%2f%2fwww.googleapis.com%2fauth%2fdocs.test%20https%3a%2f%2fwww.googleapis.com%2fauth%2fdrive%20https%3a%2f%2fwww.googleapis.com%2fauth%2fdrive.photos.readonly%20https%3a%2f%2fwww.googleapis.com%2fauth%2fpeopleapi.readonly\n",
            "\n",
            "Enter your authorization code:\n",
            "··········\n",
            "Mounted at /content/drive\n"
          ],
          "name": "stdout"
        }
      ]
    },
    {
      "cell_type": "code",
      "metadata": {
        "id": "su3yZCNPvdiK",
        "colab_type": "code",
        "outputId": "6e9fa090-89de-4d80-eb79-cc0b2af1e1b2",
        "colab": {
          "base_uri": "https://localhost:8080/",
          "height": 80
        }
      },
      "source": [
        "import pandas as pd\n",
        "import matplotlib.pyplot as plt\n",
        "import numpy as np\n",
        "from sklearn.preprocessing import OneHotEncoder\n",
        "from keras.preprocessing.image import ImageDataGenerator\n",
        "import seaborn as sns\n",
        "from matplotlib.pyplot import figure, show\n",
        "from sklearn.metrics import classification_report, confusion_matrix\n",
        "from sklearn.model_selection import train_test_split\n",
        "from sklearn.utils import class_weight"
      ],
      "execution_count": 2,
      "outputs": [
        {
          "output_type": "stream",
          "text": [
            "Using TensorFlow backend.\n"
          ],
          "name": "stderr"
        },
        {
          "output_type": "display_data",
          "data": {
            "text/html": [
              "<p style=\"color: red;\">\n",
              "The default version of TensorFlow in Colab will soon switch to TensorFlow 2.x.<br>\n",
              "We recommend you <a href=\"https://www.tensorflow.org/guide/migrate\" target=\"_blank\">upgrade</a> now \n",
              "or ensure your notebook will continue to use TensorFlow 1.x via the <code>%tensorflow_version 1.x</code> magic:\n",
              "<a href=\"https://colab.research.google.com/notebooks/tensorflow_version.ipynb\" target=\"_blank\">more info</a>.</p>\n"
            ],
            "text/plain": [
              "<IPython.core.display.HTML object>"
            ]
          },
          "metadata": {
            "tags": []
          }
        }
      ]
    },
    {
      "cell_type": "code",
      "metadata": {
        "id": "_N9XNeNVvpW3",
        "colab_type": "code",
        "colab": {}
      },
      "source": [
        "TRAIN_PATH = \"/content/drive/My Drive/Colab Notebooks/FER/train.csv\"\n",
        "TEST_PATH = \"/content/drive/My Drive/Colab Notebooks/FER/test.csv\"\n",
        "MODEL_PATH = \"/content/drive/My Drive/Colab Notebooks/FER/trained_model.h5\""
      ],
      "execution_count": 0,
      "outputs": []
    },
    {
      "cell_type": "code",
      "metadata": {
        "id": "zCS_KECPxNIg",
        "colab_type": "code",
        "outputId": "e7f671fb-93d4-48e6-d8a4-248d68e18cfe",
        "colab": {
          "base_uri": "https://localhost:8080/",
          "height": 527
        }
      },
      "source": [
        "train_df = pd.read_csv(TRAIN_PATH)\n",
        "test_df = pd.read_csv(TEST_PATH)\n",
        "print(train_df.describe)\n",
        "print(test_df.describe)\n",
        "print(train_df.shape)\n",
        "print(test_df.shape)"
      ],
      "execution_count": 4,
      "outputs": [
        {
          "output_type": "stream",
          "text": [
            "<bound method NDFrame.describe of        emotion                                             pixels\n",
            "0            0  70 80 82 72 58 58 60 63 54 58 60 48 89 115 121...\n",
            "1            0  151 150 147 155 148 133 111 140 170 174 182 15...\n",
            "2            2  231 212 156 164 174 138 161 173 182 200 106 38...\n",
            "3            4  24 32 36 30 32 23 19 20 30 41 21 22 32 34 21 1...\n",
            "4            6  4 0 0 0 0 0 0 0 0 0 0 0 3 15 23 28 48 50 58 84...\n",
            "...        ...                                                ...\n",
            "28704        2  84 85 85 85 85 85 85 85 86 86 86 87 86 86 91 9...\n",
            "28705        0  114 112 113 113 111 111 112 113 115 113 114 11...\n",
            "28706        4  74 81 87 89 95 100 98 93 105 120 127 133 146 1...\n",
            "28707        0  222 227 203 90 86 90 84 77 94 87 99 119 134 14...\n",
            "28708        4  195 199 205 206 205 203 206 209 208 210 212 21...\n",
            "\n",
            "[28709 rows x 2 columns]>\n",
            "<bound method NDFrame.describe of                                                  pixels\n",
            "0     254 254 254 254 254 249 255 160 2 58 53 70 77 ...\n",
            "1     156 184 198 202 204 207 210 212 213 214 215 21...\n",
            "2     69 118 61 60 96 121 103 87 103 88 70 90 115 12...\n",
            "3     205 203 236 157 83 158 120 116 94 86 155 180 2...\n",
            "4     87 79 74 66 74 96 77 80 80 84 83 89 102 91 84 ...\n",
            "...                                                 ...\n",
            "7173  50 36 17 22 23 29 33 39 34 37 37 37 39 43 48 5...\n",
            "7174  178 174 172 173 181 188 191 194 196 199 200 20...\n",
            "7175  17 17 16 23 28 22 19 17 25 26 20 24 31 19 27 9...\n",
            "7176  30 28 28 29 31 30 42 68 79 81 77 67 67 71 63 6...\n",
            "7177  19 13 14 12 13 16 21 33 50 57 71 84 97 108 122...\n",
            "\n",
            "[7178 rows x 1 columns]>\n",
            "(28709, 2)\n",
            "(7178, 1)\n"
          ],
          "name": "stdout"
        }
      ]
    },
    {
      "cell_type": "code",
      "metadata": {
        "id": "aj21ddWo3RZE",
        "colab_type": "code",
        "colab": {}
      },
      "source": [
        "EMOTIONS = {0:'Angry', 1:'Disgust', 2:'Fear', 3:'Happy', 4:'Sad', 5:'Surprise', 6:'Neutral'}"
      ],
      "execution_count": 0,
      "outputs": []
    },
    {
      "cell_type": "code",
      "metadata": {
        "id": "xRBx6skpjElf",
        "colab_type": "code",
        "outputId": "c4b08ef2-5b58-436c-d9ba-5bfde5a58b10",
        "colab": {
          "base_uri": "https://localhost:8080/",
          "height": 295
        }
      },
      "source": [
        "train_df['emotion'].value_counts().plot(kind='bar')\n",
        "plt.title('Class distribution')\n",
        "plt.ylabel('Count', fontsize=12)\n",
        "plt.xlabel('Emotions', fontsize=12)\n",
        "plt.show()"
      ],
      "execution_count": 6,
      "outputs": [
        {
          "output_type": "display_data",
          "data": {
            "image/png": "[encoded data removed]",
            "text/plain": [
              "<Figure size 432x288 with 1 Axes>"
            ]
          },
          "metadata": {
            "tags": []
          }
        }
      ]
    },
    {
      "cell_type": "code",
      "metadata": {
        "id": "dgDalTPszbna",
        "colab_type": "code",
        "outputId": "9f7508ae-8dd8-4933-8cf1-ea2ad9f8bbe3",
        "colab": {
          "base_uri": "https://localhost:8080/",
          "height": 102
        }
      },
      "source": [
        "\n",
        "enc_train = OneHotEncoder(handle_unknown='ignore')\n",
        "\n",
        "train_labels = train_df['emotion'].to_numpy().reshape(-1,1)\n",
        "enc_train.fit(train_labels)\n",
        "train_labels = enc_train.transform(train_labels).toarray() \n",
        "n_samples = train_labels.shape[0]\n",
        "train_image_data =  np.array([np.fromstring(sample, dtype=int, sep=' ').reshape(48,48,1) for sample in train_df['pixels'].to_numpy()]) \n",
        "train_image_data = train_image_data.astype(np.float32)/255.0\n",
        "\n",
        "\n",
        "print(train_image_data.shape)\n",
        "print(train_labels.shape)\n",
        "print(n_samples)\n",
        "\n",
        "#------------\n",
        "\n",
        "test_n_samples = test_df.shape[0]\n",
        "test_image_data =  np.array([np.fromstring(sample, dtype=int, sep=' ').reshape(48,48,1) for sample in test_df['pixels'].to_numpy()]) \n",
        "\n",
        "print(test_image_data.shape)\n",
        "print(test_n_samples)\n",
        "\n",
        "#-------------\n",
        "train_datagen = ImageDataGenerator(\n",
        "    rescale=1.0,\n",
        "    rotation_range=30,\n",
        "    shear_range=0.3,\n",
        "    zoom_range=0.3,\n",
        "    horizontal_flip=True,\n",
        "    fill_mode='nearest',\n",
        "    validation_split=0.2)\n",
        "\n",
        "train_datagen.fit(train_image_data)\n",
        "#-----------------\n",
        "test_datagen = ImageDataGenerator(rescale=1.0)\n",
        "test_datagen.fit(test_image_data)"
      ],
      "execution_count": 7,
      "outputs": [
        {
          "output_type": "stream",
          "text": [
            "(28709, 48, 48, 1)\n",
            "(28709, 7)\n",
            "28709\n",
            "(7178, 48, 48, 1)\n",
            "7178\n"
          ],
          "name": "stdout"
        }
      ]
    },
    {
      "cell_type": "code",
      "metadata": {
        "id": "FLWdBi6G97zq",
        "colab_type": "code",
        "colab": {}
      },
      "source": [
        "#building keras model\n",
        "from keras.models import Sequential\n",
        "from keras.layers import Dense\n",
        "from keras.layers import Conv2D\n",
        "from keras.wrappers.scikit_learn import KerasClassifier\n",
        "from sklearn.model_selection import cross_val_score\n",
        "from sklearn.model_selection import KFold\n",
        "from sklearn.preprocessing import StandardScaler\n",
        "from sklearn.pipeline import Pipeline\n",
        "\n",
        "import keras\n",
        "from keras.preprocessing.image import ImageDataGenerator\n",
        "from keras.models import Sequential\n",
        "from keras.layers import Dense, Dropout, Activation, Flatten, BatchNormalization\n",
        "from keras.layers import Conv2D, MaxPooling2D, ZeroPadding2D, ConvLSTM2D\n",
        "from keras.preprocessing.image import ImageDataGenerator\n",
        "import os\n",
        "from keras.layers.advanced_activations import ELU\n",
        "from keras.optimizers import RMSprop, SGD, Adam\n",
        "from keras.callbacks import ModelCheckpoint, EarlyStopping, ReduceLROnPlateau\n",
        "from keras import regularizers\n",
        "from keras.regularizers import l1\n",
        "from keras.callbacks import EarlyStopping\n",
        "from keras import metrics"
      ],
      "execution_count": 0,
      "outputs": []
    },
    {
      "cell_type": "code",
      "metadata": {
        "id": "xHvAQCWq-grP",
        "colab_type": "code",
        "colab": {}
      },
      "source": [
        "\n",
        "def baseline_model(drop_rate=0.1, regularization_val=0.0001):\n",
        "  # Create the model\n",
        "  model = Sequential()\n",
        "\n",
        "  model.add(Conv2D(16, kernel_size=(3, 3), activation='relu',\n",
        "                   kernel_regularizer=regularizers.l2(regularization_val), \n",
        "                   padding='same',\n",
        "                   input_shape=(48,48,1)))\n",
        "\n",
        "  model.add(Conv2D(32, kernel_size=(3, 3), activation='relu',\n",
        "                   kernel_regularizer=regularizers.l2(regularization_val), \n",
        "                   padding='same',\n",
        "                   input_shape=(48,48,1)))\n",
        "  model.add(BatchNormalization())\n",
        "  model.add(Dropout(drop_rate))\n",
        "\n",
        "  model.add(Conv2D(64, kernel_size=(3, 3), activation='relu',\n",
        "                   kernel_regularizer=regularizers.l2(regularization_val), \n",
        "                   padding='same') )\n",
        "  # model.add(BatchNormalization())\n",
        "  model.add(MaxPooling2D(pool_size=(2, 2)))\n",
        "\n",
        "  model.add(Conv2D(64, kernel_size=(1, 1), activation='relu', \n",
        "                   kernel_regularizer=regularizers.l2(regularization_val), \n",
        "                   padding='same'))\n",
        "  # model.add(BatchNormalization())\n",
        "  model.add(MaxPooling2D(pool_size=(2, 2)))\n",
        "\n",
        "  model.add(Conv2D(128, kernel_size=(3, 3), activation='relu', \n",
        "                   kernel_regularizer=regularizers.l2(regularization_val), \n",
        "                   padding='same'))\n",
        "  model.add(MaxPooling2D(pool_size=(2, 2)))\n",
        "\n",
        "  model.add(Conv2D(256, kernel_size=(3, 3), activation='relu', \n",
        "                   kernel_regularizer=regularizers.l2(regularization_val), \n",
        "                   padding='same'))\n",
        "  model.add(MaxPooling2D(pool_size=(2, 2)))\n",
        "\n",
        "  model.add(Conv2D(128, kernel_size=(3, 3), activation='relu', \n",
        "                   kernel_regularizer=regularizers.l2(regularization_val), \n",
        "                   padding='same'))\n",
        "  # model.add(BatchNormalization())\n",
        "  model.add(MaxPooling2D(pool_size=(2, 2)))\n",
        "\n",
        "  # model.add(Conv2D(256, kernel_size=(3, 3), activation='relu', \n",
        "  #                  kernel_regularizer=regularizers.l2(regularization_val)))\n",
        "  # model.add(Conv2D(256, kernel_size=(3, 3), activation='relu', \n",
        "  #                  kernel_regularizer=regularizers.l2(regularization_val)))\n",
        "  # model.add(MaxPooling2D(pool_size=(2, 2)))\n",
        "\n",
        "\n",
        "  model.add(Conv2D(256, kernel_size=(1, 1), activation='relu',                    #changed 7 to 256\n",
        "                   kernel_regularizer=regularizers.l2(regularization_val), \n",
        "                   padding='same'))\n",
        "  # model.add(BatchNormalization())\n",
        "\n",
        "  model.add(MaxPooling2D(pool_size=(1, 1)))\n",
        "\n",
        "  model.add(Conv2D(7, kernel_size=(4, 4), activation='relu',                      \n",
        "                   kernel_regularizer=regularizers.l2(regularization_val), \n",
        "                   padding='same'))\n",
        "  # model.add(BatchNormalization())\n",
        "\n",
        "  model.add(Flatten())\n",
        "\n",
        "  model.add(Dense(256, activation='relu'))\n",
        "  model.add(Dropout(drop_rate))\n",
        "  model.add(Dense(128, activation='relu'))  #new1\n",
        "  model.add(Dropout(drop_rate))\n",
        "  model.add(Dense(64, activation='relu'))  #new1\n",
        "  model.add(Dropout(drop_rate))\n",
        "  model.add(Dense(7, activation='relu'))\n",
        "\n",
        "  model.add(Activation(\"softmax\"))\n",
        "\n",
        "  model.summary()\n",
        "  metrics = ['categorical_accuracy']\n",
        "  adam = Adam(lr = 1e-3)\n",
        "  model.compile(loss='categorical_crossentropy', optimizer=adam, metrics=metrics)\n",
        "  return model\n"
      ],
      "execution_count": 0,
      "outputs": []
    },
    {
      "cell_type": "code",
      "metadata": {
        "id": "nnOaDsGR-52B",
        "colab_type": "code",
        "outputId": "ca9366f4-69cb-40a4-e512-dfab0205af0f",
        "colab": {
          "base_uri": "https://localhost:8080/",
          "height": 1000
        }
      },
      "source": [
        "model_ = baseline_model(drop_rate=0.2, regularization_val=0.00001)\n"
      ],
      "execution_count": 10,
      "outputs": [
        {
          "output_type": "stream",
          "text": [
            "WARNING:tensorflow:From /usr/local/lib/python3.6/dist-packages/keras/backend/tensorflow_backend.py:66: The name tf.get_default_graph is deprecated. Please use tf.compat.v1.get_default_graph instead.\n",
            "\n",
            "WARNING:tensorflow:From /usr/local/lib/python3.6/dist-packages/keras/backend/tensorflow_backend.py:541: The name tf.placeholder is deprecated. Please use tf.compat.v1.placeholder instead.\n",
            "\n",
            "WARNING:tensorflow:From /usr/local/lib/python3.6/dist-packages/keras/backend/tensorflow_backend.py:4432: The name tf.random_uniform is deprecated. Please use tf.random.uniform instead.\n",
            "\n",
            "WARNING:tensorflow:From /usr/local/lib/python3.6/dist-packages/keras/backend/tensorflow_backend.py:190: The name tf.get_default_session is deprecated. Please use tf.compat.v1.get_default_session instead.\n",
            "\n",
            "WARNING:tensorflow:From /usr/local/lib/python3.6/dist-packages/keras/backend/tensorflow_backend.py:197: The name tf.ConfigProto is deprecated. Please use tf.compat.v1.ConfigProto instead.\n",
            "\n",
            "WARNING:tensorflow:From /usr/local/lib/python3.6/dist-packages/keras/backend/tensorflow_backend.py:203: The name tf.Session is deprecated. Please use tf.compat.v1.Session instead.\n",
            "\n",
            "WARNING:tensorflow:From /usr/local/lib/python3.6/dist-packages/keras/backend/tensorflow_backend.py:207: The name tf.global_variables is deprecated. Please use tf.compat.v1.global_variables instead.\n",
            "\n",
            "WARNING:tensorflow:From /usr/local/lib/python3.6/dist-packages/keras/backend/tensorflow_backend.py:216: The name tf.is_variable_initialized is deprecated. Please use tf.compat.v1.is_variable_initialized instead.\n",
            "\n",
            "WARNING:tensorflow:From /usr/local/lib/python3.6/dist-packages/keras/backend/tensorflow_backend.py:223: The name tf.variables_initializer is deprecated. Please use tf.compat.v1.variables_initializer instead.\n",
            "\n",
            "WARNING:tensorflow:From /usr/local/lib/python3.6/dist-packages/keras/backend/tensorflow_backend.py:2041: The name tf.nn.fused_batch_norm is deprecated. Please use tf.compat.v1.nn.fused_batch_norm instead.\n",
            "\n",
            "WARNING:tensorflow:From /usr/local/lib/python3.6/dist-packages/keras/backend/tensorflow_backend.py:148: The name tf.placeholder_with_default is deprecated. Please use tf.compat.v1.placeholder_with_default instead.\n",
            "\n",
            "WARNING:tensorflow:From /usr/local/lib/python3.6/dist-packages/keras/backend/tensorflow_backend.py:3733: calling dropout (from tensorflow.python.ops.nn_ops) with keep_prob is deprecated and will be removed in a future version.\n",
            "Instructions for updating:\n",
            "Please use `rate` instead of `keep_prob`. Rate should be set to `rate = 1 - keep_prob`.\n",
            "WARNING:tensorflow:From /usr/local/lib/python3.6/dist-packages/keras/backend/tensorflow_backend.py:4267: The name tf.nn.max_pool is deprecated. Please use tf.nn.max_pool2d instead.\n",
            "\n",
            "Model: \"sequential_1\"\n",
            "_________________________________________________________________\n",
            "Layer (type)                 Output Shape              Param #   \n",
            "=================================================================\n",
            "conv2d_1 (Conv2D)            (None, 48, 48, 16)        160       \n",
            "_________________________________________________________________\n",
            "conv2d_2 (Conv2D)            (None, 48, 48, 32)        4640      \n",
            "_________________________________________________________________\n",
            "batch_normalization_1 (Batch (None, 48, 48, 32)        128       \n",
            "_________________________________________________________________\n",
            "dropout_1 (Dropout)          (None, 48, 48, 32)        0         \n",
            "_________________________________________________________________\n",
            "conv2d_3 (Conv2D)            (None, 48, 48, 64)        18496     \n",
            "_________________________________________________________________\n",
            "max_pooling2d_1 (MaxPooling2 (None, 24, 24, 64)        0         \n",
            "_________________________________________________________________\n",
            "conv2d_4 (Conv2D)            (None, 24, 24, 64)        4160      \n",
            "_________________________________________________________________\n",
            "max_pooling2d_2 (MaxPooling2 (None, 12, 12, 64)        0         \n",
            "_________________________________________________________________\n",
            "conv2d_5 (Conv2D)            (None, 12, 12, 128)       73856     \n",
            "_________________________________________________________________\n",
            "max_pooling2d_3 (MaxPooling2 (None, 6, 6, 128)         0         \n",
            "_________________________________________________________________\n",
            "conv2d_6 (Conv2D)            (None, 6, 6, 256)         295168    \n",
            "_________________________________________________________________\n",
            "max_pooling2d_4 (MaxPooling2 (None, 3, 3, 256)         0         \n",
            "_________________________________________________________________\n",
            "conv2d_7 (Conv2D)            (None, 3, 3, 128)         295040    \n",
            "_________________________________________________________________\n",
            "max_pooling2d_5 (MaxPooling2 (None, 1, 1, 128)         0         \n",
            "_________________________________________________________________\n",
            "conv2d_8 (Conv2D)            (None, 1, 1, 256)         33024     \n",
            "_________________________________________________________________\n",
            "max_pooling2d_6 (MaxPooling2 (None, 1, 1, 256)         0         \n",
            "_________________________________________________________________\n",
            "conv2d_9 (Conv2D)            (None, 1, 1, 7)           28679     \n",
            "_________________________________________________________________\n",
            "flatten_1 (Flatten)          (None, 7)                 0         \n",
            "_________________________________________________________________\n",
            "dense_1 (Dense)              (None, 256)               2048      \n",
            "_________________________________________________________________\n",
            "dropout_2 (Dropout)          (None, 256)               0         \n",
            "_________________________________________________________________\n",
            "dense_2 (Dense)              (None, 128)               32896     \n",
            "_________________________________________________________________\n",
            "dropout_3 (Dropout)          (None, 128)               0         \n",
            "_________________________________________________________________\n",
            "dense_3 (Dense)              (None, 64)                8256      \n",
            "_________________________________________________________________\n",
            "dropout_4 (Dropout)          (None, 64)                0         \n",
            "_________________________________________________________________\n",
            "dense_4 (Dense)              (None, 7)                 455       \n",
            "_________________________________________________________________\n",
            "activation_1 (Activation)    (None, 7)                 0         \n",
            "=================================================================\n",
            "Total params: 797,006\n",
            "Trainable params: 796,942\n",
            "Non-trainable params: 64\n",
            "_________________________________________________________________\n",
            "WARNING:tensorflow:From /usr/local/lib/python3.6/dist-packages/keras/optimizers.py:793: The name tf.train.Optimizer is deprecated. Please use tf.compat.v1.train.Optimizer instead.\n",
            "\n",
            "WARNING:tensorflow:From /usr/local/lib/python3.6/dist-packages/keras/backend/tensorflow_backend.py:3576: The name tf.log is deprecated. Please use tf.math.log instead.\n",
            "\n"
          ],
          "name": "stdout"
        }
      ]
    },
    {
      "cell_type": "code",
      "metadata": {
        "id": "_p0gfUKAAN4l",
        "colab_type": "code",
        "colab": {}
      },
      "source": [
        "\n",
        "es = EarlyStopping(monitor='val_loss', patience=10, verbose=1)\n",
        "# history = model_.fit(train_image_data, train_labels, validation_split=0.20, epochs=50, batch_size=64, verbose=1, callbacks=[es])\n",
        "batch_size=64\n",
        "def train_model():\n",
        "  history = model_.fit_generator(\n",
        "    train_datagen.flow(train_image_data,train_labels, batch_size=batch_size, subset='training'), \n",
        "    epochs=100, \n",
        "    steps_per_epoch=len(train_image_data) / batch_size, \n",
        "    verbose=1,\n",
        "    validation_data=train_datagen.flow(train_image_data,train_labels, batch_size=batch_size, subset='validation'),\n",
        "    callbacks=[es])\n",
        "  return history"
      ],
      "execution_count": 0,
      "outputs": []
    },
    {
      "cell_type": "code",
      "metadata": {
        "id": "Dj6YE8PsC_Cc",
        "colab_type": "code",
        "outputId": "69f37061-fec8-4453-bade-58e04916a3a8",
        "colab": {
          "base_uri": "https://localhost:8080/",
          "height": 1000
        }
      },
      "source": [
        "history = train_model()  "
      ],
      "execution_count": 12,
      "outputs": [
        {
          "output_type": "stream",
          "text": [
            "WARNING:tensorflow:From /usr/local/lib/python3.6/dist-packages/tensorflow_core/python/ops/math_grad.py:1424: where (from tensorflow.python.ops.array_ops) is deprecated and will be removed in a future version.\n",
            "Instructions for updating:\n",
            "Use tf.where in 2.0, which has the same broadcast rule as np.where\n",
            "WARNING:tensorflow:From /usr/local/lib/python3.6/dist-packages/keras/backend/tensorflow_backend.py:1033: The name tf.assign_add is deprecated. Please use tf.compat.v1.assign_add instead.\n",
            "\n",
            "WARNING:tensorflow:From /usr/local/lib/python3.6/dist-packages/keras/backend/tensorflow_backend.py:1020: The name tf.assign is deprecated. Please use tf.compat.v1.assign instead.\n",
            "\n",
            "Epoch 1/100\n",
            "449/448 [==============================] - 24s 53ms/step - loss: 1.8655 - categorical_accuracy: 0.2580 - val_loss: 1.7501 - val_categorical_accuracy: 0.2878\n",
            "Epoch 2/100\n",
            "449/448 [==============================] - 15s 33ms/step - loss: 1.6963 - categorical_accuracy: 0.3138 - val_loss: 1.6229 - val_categorical_accuracy: 0.3376\n",
            "Epoch 3/100\n",
            "449/448 [==============================] - 15s 33ms/step - loss: 1.5692 - categorical_accuracy: 0.3731 - val_loss: 1.5138 - val_categorical_accuracy: 0.3799\n",
            "Epoch 4/100\n",
            "449/448 [==============================] - 15s 33ms/step - loss: 1.4929 - categorical_accuracy: 0.4064 - val_loss: 1.4552 - val_categorical_accuracy: 0.4196\n",
            "Epoch 5/100\n",
            "449/448 [==============================] - 15s 33ms/step - loss: 1.4537 - categorical_accuracy: 0.4293 - val_loss: 1.4331 - val_categorical_accuracy: 0.4370\n",
            "Epoch 6/100\n",
            "449/448 [==============================] - 15s 33ms/step - loss: 1.4213 - categorical_accuracy: 0.4537 - val_loss: 1.4321 - val_categorical_accuracy: 0.4369\n",
            "Epoch 7/100\n",
            "449/448 [==============================] - 15s 33ms/step - loss: 1.3919 - categorical_accuracy: 0.4623 - val_loss: 1.3697 - val_categorical_accuracy: 0.4701\n",
            "Epoch 8/100\n",
            "449/448 [==============================] - 15s 33ms/step - loss: 1.3556 - categorical_accuracy: 0.4790 - val_loss: 1.3785 - val_categorical_accuracy: 0.4724\n",
            "Epoch 9/100\n",
            "449/448 [==============================] - 15s 33ms/step - loss: 1.3412 - categorical_accuracy: 0.4860 - val_loss: 1.3524 - val_categorical_accuracy: 0.4827\n",
            "Epoch 10/100\n",
            "449/448 [==============================] - 15s 34ms/step - loss: 1.3226 - categorical_accuracy: 0.4980 - val_loss: 1.3185 - val_categorical_accuracy: 0.4933\n",
            "Epoch 11/100\n",
            "449/448 [==============================] - 15s 33ms/step - loss: 1.3016 - categorical_accuracy: 0.5065 - val_loss: 1.3206 - val_categorical_accuracy: 0.4935\n",
            "Epoch 12/100\n",
            "449/448 [==============================] - 15s 33ms/step - loss: 1.2922 - categorical_accuracy: 0.5116 - val_loss: 1.2917 - val_categorical_accuracy: 0.5079\n",
            "Epoch 13/100\n",
            "449/448 [==============================] - 15s 34ms/step - loss: 1.2843 - categorical_accuracy: 0.5169 - val_loss: 1.3198 - val_categorical_accuracy: 0.4889\n",
            "Epoch 14/100\n",
            "449/448 [==============================] - 15s 34ms/step - loss: 1.2723 - categorical_accuracy: 0.5236 - val_loss: 1.3004 - val_categorical_accuracy: 0.5102\n",
            "Epoch 15/100\n",
            "449/448 [==============================] - 15s 33ms/step - loss: 1.2639 - categorical_accuracy: 0.5250 - val_loss: 1.4696 - val_categorical_accuracy: 0.4605\n",
            "Epoch 16/100\n",
            "449/448 [==============================] - 15s 34ms/step - loss: 1.2561 - categorical_accuracy: 0.5268 - val_loss: 1.3508 - val_categorical_accuracy: 0.4811\n",
            "Epoch 17/100\n",
            "449/448 [==============================] - 15s 33ms/step - loss: 1.2473 - categorical_accuracy: 0.5346 - val_loss: 1.2728 - val_categorical_accuracy: 0.5145\n",
            "Epoch 18/100\n",
            "449/448 [==============================] - 15s 34ms/step - loss: 1.2426 - categorical_accuracy: 0.5333 - val_loss: 1.2701 - val_categorical_accuracy: 0.5241\n",
            "Epoch 19/100\n",
            "449/448 [==============================] - 15s 33ms/step - loss: 1.2308 - categorical_accuracy: 0.5408 - val_loss: 1.2737 - val_categorical_accuracy: 0.5196\n",
            "Epoch 20/100\n",
            "449/448 [==============================] - 15s 33ms/step - loss: 1.2236 - categorical_accuracy: 0.5420 - val_loss: 1.2695 - val_categorical_accuracy: 0.5262\n",
            "Epoch 21/100\n",
            "449/448 [==============================] - 15s 34ms/step - loss: 1.2145 - categorical_accuracy: 0.5477 - val_loss: 1.2202 - val_categorical_accuracy: 0.5422\n",
            "Epoch 22/100\n",
            "449/448 [==============================] - 15s 34ms/step - loss: 1.2049 - categorical_accuracy: 0.5539 - val_loss: 1.2591 - val_categorical_accuracy: 0.5217\n",
            "Epoch 23/100\n",
            "449/448 [==============================] - 15s 33ms/step - loss: 1.2092 - categorical_accuracy: 0.5522 - val_loss: 1.2511 - val_categorical_accuracy: 0.5360\n",
            "Epoch 24/100\n",
            "449/448 [==============================] - 15s 33ms/step - loss: 1.2041 - categorical_accuracy: 0.5556 - val_loss: 1.2431 - val_categorical_accuracy: 0.5335\n",
            "Epoch 25/100\n",
            "449/448 [==============================] - 15s 33ms/step - loss: 1.2016 - categorical_accuracy: 0.5586 - val_loss: 1.2614 - val_categorical_accuracy: 0.5302\n",
            "Epoch 26/100\n",
            "449/448 [==============================] - 15s 33ms/step - loss: 1.1909 - categorical_accuracy: 0.5606 - val_loss: 1.2372 - val_categorical_accuracy: 0.5367\n",
            "Epoch 27/100\n",
            "449/448 [==============================] - 15s 33ms/step - loss: 1.1960 - categorical_accuracy: 0.5605 - val_loss: 1.2212 - val_categorical_accuracy: 0.5377\n",
            "Epoch 28/100\n",
            "449/448 [==============================] - 15s 33ms/step - loss: 1.1752 - categorical_accuracy: 0.5692 - val_loss: 1.2150 - val_categorical_accuracy: 0.5476\n",
            "Epoch 29/100\n",
            "449/448 [==============================] - 15s 33ms/step - loss: 1.1734 - categorical_accuracy: 0.5703 - val_loss: 1.2644 - val_categorical_accuracy: 0.5320\n",
            "Epoch 30/100\n",
            "449/448 [==============================] - 15s 34ms/step - loss: 1.1633 - categorical_accuracy: 0.5744 - val_loss: 1.2082 - val_categorical_accuracy: 0.5480\n",
            "Epoch 31/100\n",
            "449/448 [==============================] - 15s 33ms/step - loss: 1.1638 - categorical_accuracy: 0.5748 - val_loss: 1.2561 - val_categorical_accuracy: 0.5187\n",
            "Epoch 32/100\n",
            "449/448 [==============================] - 15s 33ms/step - loss: 1.1561 - categorical_accuracy: 0.5764 - val_loss: 1.2181 - val_categorical_accuracy: 0.5469\n",
            "Epoch 33/100\n",
            "449/448 [==============================] - 15s 33ms/step - loss: 1.1608 - categorical_accuracy: 0.5784 - val_loss: 1.2168 - val_categorical_accuracy: 0.5520\n",
            "Epoch 34/100\n",
            "449/448 [==============================] - 15s 33ms/step - loss: 1.1500 - categorical_accuracy: 0.5818 - val_loss: 1.2259 - val_categorical_accuracy: 0.5471\n",
            "Epoch 35/100\n",
            "449/448 [==============================] - 15s 33ms/step - loss: 1.1527 - categorical_accuracy: 0.5781 - val_loss: 1.2052 - val_categorical_accuracy: 0.5523\n",
            "Epoch 36/100\n",
            "449/448 [==============================] - 15s 33ms/step - loss: 1.1479 - categorical_accuracy: 0.5803 - val_loss: 1.2105 - val_categorical_accuracy: 0.5504\n",
            "Epoch 37/100\n",
            "449/448 [==============================] - 15s 34ms/step - loss: 1.1361 - categorical_accuracy: 0.5883 - val_loss: 1.2153 - val_categorical_accuracy: 0.5454\n",
            "Epoch 38/100\n",
            "449/448 [==============================] - 15s 34ms/step - loss: 1.1484 - categorical_accuracy: 0.5844 - val_loss: 1.2083 - val_categorical_accuracy: 0.5612\n",
            "Epoch 39/100\n",
            "449/448 [==============================] - 15s 33ms/step - loss: 1.1360 - categorical_accuracy: 0.5825 - val_loss: 1.2096 - val_categorical_accuracy: 0.5565\n",
            "Epoch 40/100\n",
            "449/448 [==============================] - 15s 34ms/step - loss: 1.1320 - categorical_accuracy: 0.5898 - val_loss: 1.2350 - val_categorical_accuracy: 0.5405\n",
            "Epoch 41/100\n",
            "449/448 [==============================] - 15s 34ms/step - loss: 1.1292 - categorical_accuracy: 0.5901 - val_loss: 1.2155 - val_categorical_accuracy: 0.5527\n",
            "Epoch 42/100\n",
            "449/448 [==============================] - 15s 34ms/step - loss: 1.1379 - categorical_accuracy: 0.5910 - val_loss: 1.2085 - val_categorical_accuracy: 0.5537\n",
            "Epoch 43/100\n",
            "449/448 [==============================] - 15s 33ms/step - loss: 1.1256 - categorical_accuracy: 0.5909 - val_loss: 1.2014 - val_categorical_accuracy: 0.5595\n",
            "Epoch 44/100\n",
            "449/448 [==============================] - 15s 34ms/step - loss: 1.1297 - categorical_accuracy: 0.5910 - val_loss: 1.1972 - val_categorical_accuracy: 0.5612\n",
            "Epoch 45/100\n",
            "449/448 [==============================] - 15s 34ms/step - loss: 1.1188 - categorical_accuracy: 0.5962 - val_loss: 1.2182 - val_categorical_accuracy: 0.5497\n",
            "Epoch 46/100\n",
            "449/448 [==============================] - 15s 34ms/step - loss: 1.1290 - categorical_accuracy: 0.5925 - val_loss: 1.2171 - val_categorical_accuracy: 0.5506\n",
            "Epoch 47/100\n",
            "449/448 [==============================] - 15s 34ms/step - loss: 1.1080 - categorical_accuracy: 0.6019 - val_loss: 1.2408 - val_categorical_accuracy: 0.5417\n",
            "Epoch 48/100\n",
            "449/448 [==============================] - 15s 34ms/step - loss: 1.1193 - categorical_accuracy: 0.5988 - val_loss: 1.2076 - val_categorical_accuracy: 0.5537\n",
            "Epoch 49/100\n",
            "449/448 [==============================] - 15s 34ms/step - loss: 1.1118 - categorical_accuracy: 0.5998 - val_loss: 1.1796 - val_categorical_accuracy: 0.5685\n",
            "Epoch 50/100\n",
            "449/448 [==============================] - 15s 33ms/step - loss: 1.1177 - categorical_accuracy: 0.5962 - val_loss: 1.1868 - val_categorical_accuracy: 0.5689\n",
            "Epoch 51/100\n",
            "449/448 [==============================] - 15s 33ms/step - loss: 1.1117 - categorical_accuracy: 0.6024 - val_loss: 1.1798 - val_categorical_accuracy: 0.5665\n",
            "Epoch 52/100\n",
            "449/448 [==============================] - 15s 33ms/step - loss: 1.1125 - categorical_accuracy: 0.6009 - val_loss: 1.1947 - val_categorical_accuracy: 0.5591\n",
            "Epoch 53/100\n",
            "449/448 [==============================] - 15s 34ms/step - loss: 1.1082 - categorical_accuracy: 0.6050 - val_loss: 1.2011 - val_categorical_accuracy: 0.5612\n",
            "Epoch 54/100\n",
            "449/448 [==============================] - 15s 33ms/step - loss: 1.1039 - categorical_accuracy: 0.6042 - val_loss: 1.1994 - val_categorical_accuracy: 0.5621\n",
            "Epoch 55/100\n",
            "449/448 [==============================] - 15s 33ms/step - loss: 1.1091 - categorical_accuracy: 0.6029 - val_loss: 1.1683 - val_categorical_accuracy: 0.5725\n",
            "Epoch 56/100\n",
            "449/448 [==============================] - 15s 33ms/step - loss: 1.1053 - categorical_accuracy: 0.6038 - val_loss: 1.1955 - val_categorical_accuracy: 0.5605\n",
            "Epoch 57/100\n",
            "449/448 [==============================] - 15s 34ms/step - loss: 1.0989 - categorical_accuracy: 0.6068 - val_loss: 1.2046 - val_categorical_accuracy: 0.5671\n",
            "Epoch 58/100\n",
            "449/448 [==============================] - 15s 33ms/step - loss: 1.1072 - categorical_accuracy: 0.6013 - val_loss: 1.1726 - val_categorical_accuracy: 0.5731\n",
            "Epoch 59/100\n",
            "449/448 [==============================] - 15s 33ms/step - loss: 1.0976 - categorical_accuracy: 0.6063 - val_loss: 1.1822 - val_categorical_accuracy: 0.5731\n",
            "Epoch 60/100\n",
            "449/448 [==============================] - 15s 33ms/step - loss: 1.1021 - categorical_accuracy: 0.6058 - val_loss: 1.1766 - val_categorical_accuracy: 0.5687\n",
            "Epoch 61/100\n",
            "449/448 [==============================] - 15s 34ms/step - loss: 1.0944 - categorical_accuracy: 0.6067 - val_loss: 1.2568 - val_categorical_accuracy: 0.5320\n",
            "Epoch 62/100\n",
            "449/448 [==============================] - 15s 33ms/step - loss: 1.0919 - categorical_accuracy: 0.6101 - val_loss: 1.1739 - val_categorical_accuracy: 0.5722\n",
            "Epoch 63/100\n",
            "449/448 [==============================] - 15s 33ms/step - loss: 1.1075 - categorical_accuracy: 0.6035 - val_loss: 1.1840 - val_categorical_accuracy: 0.5659\n",
            "Epoch 64/100\n",
            "449/448 [==============================] - 15s 33ms/step - loss: 1.0915 - categorical_accuracy: 0.6069 - val_loss: 1.2055 - val_categorical_accuracy: 0.5590\n",
            "Epoch 65/100\n",
            "449/448 [==============================] - 15s 33ms/step - loss: 1.0934 - categorical_accuracy: 0.6076 - val_loss: 1.2123 - val_categorical_accuracy: 0.5698\n",
            "Epoch 00065: early stopping\n"
          ],
          "name": "stdout"
        }
      ]
    },
    {
      "cell_type": "code",
      "metadata": {
        "id": "vYA-I8ckpI6y",
        "colab_type": "code",
        "outputId": "bcd700d7-b78c-4186-8a00-2416aa552f39",
        "colab": {
          "base_uri": "https://localhost:8080/",
          "height": 295
        }
      },
      "source": [
        "# Plot training & validation accuracy values\n",
        "plt.plot(history.history['categorical_accuracy'])\n",
        "plt.plot(history.history['val_categorical_accuracy'])\n",
        "plt.title('Model accuracy')\n",
        "plt.ylabel('Accuracy')\n",
        "plt.xlabel('Epoch')\n",
        "plt.legend(['Train', 'Test'], loc='upper left')\n",
        "plt.show()"
      ],
      "execution_count": 13,
      "outputs": [
        {
          "output_type": "display_data",
          "data": {
            "image/png": "[encoded data removed]",
            "text/plain": [
              "<Figure size 432x288 with 1 Axes>"
            ]
          },
          "metadata": {
            "tags": []
          }
        }
      ]
    },
    {
      "cell_type": "code",
      "metadata": {
        "id": "ylLB0B13F36c",
        "colab_type": "code",
        "outputId": "6cf8fd8c-a378-4eee-c177-9546649bb7d5",
        "colab": {
          "base_uri": "https://localhost:8080/",
          "height": 295
        }
      },
      "source": [
        "\n",
        "# Plot training & validation loss values\n",
        "plt.plot(history.history['loss'])\n",
        "plt.plot(history.history['val_loss'])\n",
        "plt.title('Model loss')\n",
        "plt.ylabel('Loss')\n",
        "plt.xlabel('Epoch')\n",
        "plt.legend(['Train', 'Test'], loc='upper left')\n",
        "plt.show()"
      ],
      "execution_count": 14,
      "outputs": [
        {
          "output_type": "display_data",
          "data": {
            "image/png": "[encoded data removed]",
            "text/plain": [
              "<Figure size 432x288 with 1 Axes>"
            ]
          },
          "metadata": {
            "tags": []
          }
        }
      ]
    },
    {
      "cell_type": "code",
      "metadata": {
        "id": "Lv7OZ66il3-4",
        "colab_type": "code",
        "outputId": "97f83b25-5afa-4e9c-fbb6-3f9611377bfe",
        "colab": {
          "base_uri": "https://localhost:8080/",
          "height": 34
        }
      },
      "source": [
        "Y_pred = model_.predict_generator(test_datagen.flow(test_image_data), test_n_samples // batch_size+1)\n",
        "y_pred = np.argmax(Y_pred, axis=1)\n",
        "print(y_pred)"
      ],
      "execution_count": 15,
      "outputs": [
        {
          "output_type": "stream",
          "text": [
            "[6 3 3 ... 6 3 6]\n"
          ],
          "name": "stdout"
        }
      ]
    },
    {
      "cell_type": "code",
      "metadata": {
        "id": "-jAefmqAOkPh",
        "colab_type": "code",
        "colab": {}
      },
      "source": [
        "model_.save(MODEL_PATH)"
      ],
      "execution_count": 0,
      "outputs": []
    }
  ]
}