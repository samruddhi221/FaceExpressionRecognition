{
  "nbformat": 4,
  "nbformat_minor": 0,
  "metadata": {
    "colab": {
      "name": "FacialExpressionRecognition.ipynb",
      "provenance": [],
      "collapsed_sections": []
    },
    "kernelspec": {
      "name": "python3",
      "display_name": "Python 3"
    },
    "accelerator": "GPU"
  },
  "cells": [
    {
      "cell_type": "code",
      "metadata": {
        "id": "n6bTbN6ruLh1",
        "colab_type": "code",
        "outputId": "4cbbcd7d-96f3-455f-e047-9d805e414ac0",
        "colab": {
          "base_uri": "https://localhost:8080/",
          "height": 122
        }
      },
      "source": [
        "from google.colab import drive\n",
        "drive.mount('/content/drive')"
      ],
      "execution_count": 2,
      "outputs": [
        {
          "output_type": "stream",
          "text": [
            "Go to this URL in a browser: https://accounts.google.com/o/oauth2/auth?client_id=947318989803-6bn6qk8qdgf4n4g3pfee6491hc0brc4i.apps.googleusercontent.com&redirect_uri=urn%3aietf%3awg%3aoauth%3a2.0%3aoob&response_type=code&scope=email%20https%3a%2f%2fwww.googleapis.com%2fauth%2fdocs.test%20https%3a%2f%2fwww.googleapis.com%2fauth%2fdrive%20https%3a%2f%2fwww.googleapis.com%2fauth%2fdrive.photos.readonly%20https%3a%2f%2fwww.googleapis.com%2fauth%2fpeopleapi.readonly\n",
            "\n",
            "Enter your authorization code:\n",
            "··········\n",
            "Mounted at /content/drive\n"
          ],
          "name": "stdout"
        }
      ]
    },
    {
      "cell_type": "code",
      "metadata": {
        "id": "su3yZCNPvdiK",
        "colab_type": "code",
        "colab": {
          "base_uri": "https://localhost:8080/",
          "height": 80
        },
        "outputId": "2a23a8ba-57dd-4ac6-bf2c-d72ec5a9b619"
      },
      "source": [
        "import pandas as pd\n",
        "import matplotlib.pyplot as plt\n",
        "import numpy as np\n",
        "from sklearn.preprocessing import OneHotEncoder\n",
        "from keras.preprocessing.image import ImageDataGenerator"
      ],
      "execution_count": 3,
      "outputs": [
        {
          "output_type": "stream",
          "text": [
            "Using TensorFlow backend.\n"
          ],
          "name": "stderr"
        },
        {
          "output_type": "display_data",
          "data": {
            "text/html": [
              "<p style=\"color: red;\">\n",
              "The default version of TensorFlow in Colab will soon switch to TensorFlow 2.x.<br>\n",
              "We recommend you <a href=\"https://www.tensorflow.org/guide/migrate\" target=\"_blank\">upgrade</a> now \n",
              "or ensure your notebook will continue to use TensorFlow 1.x via the <code>%tensorflow_version 1.x</code> magic:\n",
              "<a href=\"https://colab.research.google.com/notebooks/tensorflow_version.ipynb\" target=\"_blank\">more info</a>.</p>\n"
            ],
            "text/plain": [
              "<IPython.core.display.HTML object>"
            ]
          },
          "metadata": {
            "tags": []
          }
        }
      ]
    },
    {
      "cell_type": "code",
      "metadata": {
        "id": "_N9XNeNVvpW3",
        "colab_type": "code",
        "colab": {}
      },
      "source": [
        "TRAIN_PATH = \"/content/drive/My Drive/Colab Notebooks/FER/train.csv\"\n",
        "TEST_PATH = \"/content/drive/My Drive/Colab Notebooks/FER/test.csv\"\n",
        "MODEL_PATH = \"/content/drive/My Drive/Colab Notebooks/FER/trained_model.h5\""
      ],
      "execution_count": 0,
      "outputs": []
    },
    {
      "cell_type": "code",
      "metadata": {
        "id": "zCS_KECPxNIg",
        "colab_type": "code",
        "outputId": "e65a5b27-df8d-4fd8-879d-7fb907e09319",
        "colab": {
          "base_uri": "https://localhost:8080/",
          "height": 493
        }
      },
      "source": [
        "train_df = pd.read_csv(TRAIN_PATH)\n",
        "test_df = pd.read_csv(TEST_PATH)\n",
        "print(train_df.describe)\n",
        "print(test_df.describe)"
      ],
      "execution_count": 5,
      "outputs": [
        {
          "output_type": "stream",
          "text": [
            "<bound method NDFrame.describe of        emotion                                             pixels\n",
            "0            0  70 80 82 72 58 58 60 63 54 58 60 48 89 115 121...\n",
            "1            0  151 150 147 155 148 133 111 140 170 174 182 15...\n",
            "2            2  231 212 156 164 174 138 161 173 182 200 106 38...\n",
            "3            4  24 32 36 30 32 23 19 20 30 41 21 22 32 34 21 1...\n",
            "4            6  4 0 0 0 0 0 0 0 0 0 0 0 3 15 23 28 48 50 58 84...\n",
            "...        ...                                                ...\n",
            "28704        2  84 85 85 85 85 85 85 85 86 86 86 87 86 86 91 9...\n",
            "28705        0  114 112 113 113 111 111 112 113 115 113 114 11...\n",
            "28706        4  74 81 87 89 95 100 98 93 105 120 127 133 146 1...\n",
            "28707        0  222 227 203 90 86 90 84 77 94 87 99 119 134 14...\n",
            "28708        4  195 199 205 206 205 203 206 209 208 210 212 21...\n",
            "\n",
            "[28709 rows x 2 columns]>\n",
            "<bound method NDFrame.describe of                                                  pixels\n",
            "0     254 254 254 254 254 249 255 160 2 58 53 70 77 ...\n",
            "1     156 184 198 202 204 207 210 212 213 214 215 21...\n",
            "2     69 118 61 60 96 121 103 87 103 88 70 90 115 12...\n",
            "3     205 203 236 157 83 158 120 116 94 86 155 180 2...\n",
            "4     87 79 74 66 74 96 77 80 80 84 83 89 102 91 84 ...\n",
            "...                                                 ...\n",
            "7173  50 36 17 22 23 29 33 39 34 37 37 37 39 43 48 5...\n",
            "7174  178 174 172 173 181 188 191 194 196 199 200 20...\n",
            "7175  17 17 16 23 28 22 19 17 25 26 20 24 31 19 27 9...\n",
            "7176  30 28 28 29 31 30 42 68 79 81 77 67 67 71 63 6...\n",
            "7177  19 13 14 12 13 16 21 33 50 57 71 84 97 108 122...\n",
            "\n",
            "[7178 rows x 1 columns]>\n"
          ],
          "name": "stdout"
        }
      ]
    },
    {
      "cell_type": "code",
      "metadata": {
        "id": "dgDalTPszbna",
        "colab_type": "code",
        "outputId": "3ba3e519-aa30-4f06-bd0c-76cb2d2d7c24",
        "colab": {
          "base_uri": "https://localhost:8080/",
          "height": 102
        }
      },
      "source": [
        "enc_train = OneHotEncoder(handle_unknown='ignore')\n",
        "\n",
        "train_labels = train_df['emotion'].to_numpy().reshape(-1,1)\n",
        "enc_train.fit(train_labels)\n",
        "train_labels = enc_train.transform(train_labels).toarray() \n",
        "n_samples = train_labels.shape[0]\n",
        "train_image_data =  np.array([np.fromstring(sample, dtype=int, sep=' ').reshape(48,48,1) for sample in train_df['pixels'].to_numpy()]) \n",
        "train_image_data = train_image_data.astype(np.float32)/255.0\n",
        "\n",
        "\n",
        "print(train_image_data.shape)\n",
        "print(train_labels.shape)\n",
        "print(n_samples)\n",
        "\n",
        "#------------\n",
        "\n",
        "test_n_samples = test_df.shape[0]\n",
        "test_image_data =  np.array([np.fromstring(sample, dtype=int, sep=' ').reshape(48,48,1) for sample in test_df['pixels'].to_numpy()]) \n",
        "\n",
        "print(test_image_data.shape)\n",
        "print(test_n_samples)\n",
        "\n",
        "#-------------\n",
        "train_datagen = ImageDataGenerator(\n",
        "    rescale=1.0,\n",
        "    rotation_range=30,\n",
        "    shear_range=0.3,\n",
        "    zoom_range=0.3,\n",
        "    horizontal_flip=True,\n",
        "    fill_mode='nearest',\n",
        "    validation_split=0.2)\n",
        "\n",
        "train_datagen.fit(train_image_data)\n",
        "#-----------------\n",
        "test_datagen = ImageDataGenerator(rescale=1.0)\n",
        "test_datagen.fit(test_image_data)"
      ],
      "execution_count": 6,
      "outputs": [
        {
          "output_type": "stream",
          "text": [
            "(28709, 48, 48, 1)\n",
            "(28709, 7)\n",
            "28709\n",
            "(7178, 48, 48, 1)\n",
            "7178\n"
          ],
          "name": "stdout"
        }
      ]
    },
    {
      "cell_type": "code",
      "metadata": {
        "id": "aj21ddWo3RZE",
        "colab_type": "code",
        "colab": {}
      },
      "source": [
        "EMOTIONS = {0:'Angry', 1:'Disgust', 2:'Fear', 3:'Happy', 4:'Sad', 5:'Surprise', 6:'Neutral'}"
      ],
      "execution_count": 0,
      "outputs": []
    },
    {
      "cell_type": "code",
      "metadata": {
        "id": "DsbpaMWF2sX7",
        "colab_type": "code",
        "outputId": "ddc0c2f2-c078-435d-9b5c-f6fb1bf714c7",
        "colab": {
          "base_uri": "https://localhost:8080/",
          "height": 34
        }
      },
      "source": [
        "from random import randint\n",
        "\n",
        "rand_num = randint(0,n_samples)\n",
        "print(rand_num)\n",
        "\n",
        "# print(\"emotion {}\".format(train_labels[rand_num]) )\n",
        "# plt.imshow(train_image_data[rand_num])\n",
        "# plt.show()"
      ],
      "execution_count": 8,
      "outputs": [
        {
          "output_type": "stream",
          "text": [
            "5371\n"
          ],
          "name": "stdout"
        }
      ]
    },
    {
      "cell_type": "code",
      "metadata": {
        "id": "FLWdBi6G97zq",
        "colab_type": "code",
        "colab": {}
      },
      "source": [
        "#building keras model\n",
        "from keras.models import Sequential\n",
        "from keras.layers import Dense\n",
        "from keras.layers import Conv2D\n",
        "from keras.wrappers.scikit_learn import KerasClassifier\n",
        "from sklearn.model_selection import cross_val_score\n",
        "from sklearn.model_selection import KFold\n",
        "from sklearn.preprocessing import StandardScaler\n",
        "from sklearn.pipeline import Pipeline\n",
        "\n",
        "import keras\n",
        "from keras.preprocessing.image import ImageDataGenerator\n",
        "from keras.models import Sequential\n",
        "from keras.layers import Dense, Dropout, Activation, Flatten, BatchNormalization\n",
        "from keras.layers import Conv2D, MaxPooling2D, ZeroPadding2D\n",
        "from keras.preprocessing.image import ImageDataGenerator\n",
        "import os\n",
        "from keras.layers.advanced_activations import ELU\n",
        "from keras.optimizers import RMSprop, SGD, Adam\n",
        "from keras.callbacks import ModelCheckpoint, EarlyStopping, ReduceLROnPlateau\n",
        "from keras import regularizers\n",
        "from keras.regularizers import l1\n",
        "from keras.callbacks import EarlyStopping"
      ],
      "execution_count": 0,
      "outputs": []
    },
    {
      "cell_type": "code",
      "metadata": {
        "id": "xHvAQCWq-grP",
        "colab_type": "code",
        "colab": {}
      },
      "source": [
        "def baseline_model(drop_rate=0.1, regularization_val=0.0001):\n",
        "  # Create the model\n",
        "  model = Sequential()\n",
        "\n",
        "  model.add(Conv2D(32, kernel_size=(3, 3), activation='relu',\n",
        "                   kernel_regularizer=regularizers.l2(regularization_val), \n",
        "                   padding='same',\n",
        "                   input_shape=(48,48,1)))\n",
        "  # model.add(BatchNormalization())\n",
        "\n",
        "  model.add(Conv2D(64, kernel_size=(3, 3), activation='relu',\n",
        "                   kernel_regularizer=regularizers.l2(regularization_val), \n",
        "                   padding='same') )\n",
        "  # model.add(BatchNormalization())\n",
        "  model.add(MaxPooling2D(pool_size=(2, 2)))\n",
        "\n",
        "  model.add(Conv2D(128, kernel_size=(3, 3), activation='relu', \n",
        "                   kernel_regularizer=regularizers.l2(regularization_val), \n",
        "                   padding='same'))\n",
        "  # model.add(BatchNormalization())\n",
        "  model.add(MaxPooling2D(pool_size=(2, 2)))\n",
        "\n",
        "  model.add(Conv2D(128, kernel_size=(3, 3), activation='relu', \n",
        "                   kernel_regularizer=regularizers.l2(regularization_val), \n",
        "                   padding='same'))\n",
        "  # model.add(BatchNormalization())\n",
        "  model.add(MaxPooling2D(pool_size=(2, 2)))\n",
        "\n",
        "  # model.add(Conv2D(256, kernel_size=(3, 3), activation='relu', \n",
        "  #                  kernel_regularizer=regularizers.l2(regularization_val)))\n",
        "  # model.add(Conv2D(256, kernel_size=(3, 3), activation='relu', \n",
        "  #                  kernel_regularizer=regularizers.l2(regularization_val)))\n",
        "  # model.add(MaxPooling2D(pool_size=(2, 2)))\n",
        "\n",
        "\n",
        "  model.add(Conv2D(7, kernel_size=(1, 1), activation='relu', \n",
        "                   kernel_regularizer=regularizers.l2(regularization_val), \n",
        "                   padding='same'))\n",
        "  # model.add(BatchNormalization())\n",
        "\n",
        "  model.add(Conv2D(7, kernel_size=(4, 4), activation='relu', \n",
        "                   kernel_regularizer=regularizers.l2(regularization_val), \n",
        "                   padding='same'))\n",
        "  # model.add(BatchNormalization())\n",
        "\n",
        "  model.add(Flatten())\n",
        "\n",
        "  # model.add(Dense(4096, activation='relu'))\n",
        "  # model.add(Dropout(drop_rate))\n",
        "  # model.add(Dense(4096, activation='relu'))\n",
        "  # model.add(Dropout(drop_rate))\n",
        "\n",
        "  model.add(Dense(7, activation='relu'))\n",
        "\n",
        "  model.add(Activation(\"softmax\"))\n",
        "\n",
        "  model.summary()\n",
        "\n",
        "  adam = Adam(lr = 1e-3)\n",
        "  model.compile(loss='categorical_crossentropy', optimizer=adam)\n",
        "  return model\n",
        "\n"
      ],
      "execution_count": 0,
      "outputs": []
    },
    {
      "cell_type": "code",
      "metadata": {
        "id": "nnOaDsGR-52B",
        "colab_type": "code",
        "outputId": "3140e307-0224-448c-a76c-5f7950439aee",
        "colab": {
          "base_uri": "https://localhost:8080/",
          "height": 785
        }
      },
      "source": [
        "model_ = baseline_model(drop_rate=0.1, regularization_val=0.0001)\n"
      ],
      "execution_count": 11,
      "outputs": [
        {
          "output_type": "stream",
          "text": [
            "WARNING:tensorflow:From /usr/local/lib/python3.6/dist-packages/keras/backend/tensorflow_backend.py:66: The name tf.get_default_graph is deprecated. Please use tf.compat.v1.get_default_graph instead.\n",
            "\n",
            "WARNING:tensorflow:From /usr/local/lib/python3.6/dist-packages/keras/backend/tensorflow_backend.py:541: The name tf.placeholder is deprecated. Please use tf.compat.v1.placeholder instead.\n",
            "\n",
            "WARNING:tensorflow:From /usr/local/lib/python3.6/dist-packages/keras/backend/tensorflow_backend.py:4432: The name tf.random_uniform is deprecated. Please use tf.random.uniform instead.\n",
            "\n",
            "WARNING:tensorflow:From /usr/local/lib/python3.6/dist-packages/keras/backend/tensorflow_backend.py:4267: The name tf.nn.max_pool is deprecated. Please use tf.nn.max_pool2d instead.\n",
            "\n",
            "Model: \"sequential_1\"\n",
            "_________________________________________________________________\n",
            "Layer (type)                 Output Shape              Param #   \n",
            "=================================================================\n",
            "conv2d_1 (Conv2D)            (None, 48, 48, 32)        320       \n",
            "_________________________________________________________________\n",
            "conv2d_2 (Conv2D)            (None, 48, 48, 64)        18496     \n",
            "_________________________________________________________________\n",
            "max_pooling2d_1 (MaxPooling2 (None, 24, 24, 64)        0         \n",
            "_________________________________________________________________\n",
            "conv2d_3 (Conv2D)            (None, 24, 24, 128)       73856     \n",
            "_________________________________________________________________\n",
            "max_pooling2d_2 (MaxPooling2 (None, 12, 12, 128)       0         \n",
            "_________________________________________________________________\n",
            "conv2d_4 (Conv2D)            (None, 12, 12, 128)       147584    \n",
            "_________________________________________________________________\n",
            "max_pooling2d_3 (MaxPooling2 (None, 6, 6, 128)         0         \n",
            "_________________________________________________________________\n",
            "conv2d_5 (Conv2D)            (None, 6, 6, 7)           903       \n",
            "_________________________________________________________________\n",
            "conv2d_6 (Conv2D)            (None, 6, 6, 7)           791       \n",
            "_________________________________________________________________\n",
            "flatten_1 (Flatten)          (None, 252)               0         \n",
            "_________________________________________________________________\n",
            "dense_1 (Dense)              (None, 7)                 1771      \n",
            "_________________________________________________________________\n",
            "activation_1 (Activation)    (None, 7)                 0         \n",
            "=================================================================\n",
            "Total params: 243,721\n",
            "Trainable params: 243,721\n",
            "Non-trainable params: 0\n",
            "_________________________________________________________________\n",
            "WARNING:tensorflow:From /usr/local/lib/python3.6/dist-packages/keras/optimizers.py:793: The name tf.train.Optimizer is deprecated. Please use tf.compat.v1.train.Optimizer instead.\n",
            "\n",
            "WARNING:tensorflow:From /usr/local/lib/python3.6/dist-packages/keras/backend/tensorflow_backend.py:3576: The name tf.log is deprecated. Please use tf.math.log instead.\n",
            "\n"
          ],
          "name": "stdout"
        }
      ]
    },
    {
      "cell_type": "code",
      "metadata": {
        "id": "_p0gfUKAAN4l",
        "colab_type": "code",
        "outputId": "bfaaef7d-8fd4-4ded-c925-b50d61b80c8b",
        "colab": {
          "base_uri": "https://localhost:8080/",
          "height": 1000
        }
      },
      "source": [
        "es = EarlyStopping(monitor='val_loss', patience=10, verbose=1)\n",
        "# history = model_.fit(train_image_data, train_labels, validation_split=0.20, epochs=50, batch_size=64, verbose=1, callbacks=[es])\n",
        "batch_size=64\n",
        "history = model_.fit_generator(\n",
        "    train_datagen.flow(train_image_data,train_labels, batch_size=batch_size, subset='training'), \n",
        "    epochs=500, \n",
        "    steps_per_epoch=len(train_image_data) / batch_size, \n",
        "    verbose=1,\n",
        "    validation_data=train_datagen.flow(train_image_data,train_labels, batch_size=batch_size, subset='validation'),\n",
        "    callbacks=[es])\n"
      ],
      "execution_count": 0,
      "outputs": [
        {
          "output_type": "stream",
          "text": [
            "WARNING:tensorflow:From /usr/local/lib/python3.6/dist-packages/tensorflow_core/python/ops/math_grad.py:1424: where (from tensorflow.python.ops.array_ops) is deprecated and will be removed in a future version.\n",
            "Instructions for updating:\n",
            "Use tf.where in 2.0, which has the same broadcast rule as np.where\n",
            "WARNING:tensorflow:From /usr/local/lib/python3.6/dist-packages/keras/backend/tensorflow_backend.py:1033: The name tf.assign_add is deprecated. Please use tf.compat.v1.assign_add instead.\n",
            "\n",
            "WARNING:tensorflow:From /usr/local/lib/python3.6/dist-packages/keras/backend/tensorflow_backend.py:1020: The name tf.assign is deprecated. Please use tf.compat.v1.assign instead.\n",
            "\n",
            "WARNING:tensorflow:From /usr/local/lib/python3.6/dist-packages/keras/backend/tensorflow_backend.py:3005: The name tf.Session is deprecated. Please use tf.compat.v1.Session instead.\n",
            "\n",
            "Epoch 1/500\n",
            "WARNING:tensorflow:From /usr/local/lib/python3.6/dist-packages/keras/backend/tensorflow_backend.py:190: The name tf.get_default_session is deprecated. Please use tf.compat.v1.get_default_session instead.\n",
            "\n",
            "WARNING:tensorflow:From /usr/local/lib/python3.6/dist-packages/keras/backend/tensorflow_backend.py:197: The name tf.ConfigProto is deprecated. Please use tf.compat.v1.ConfigProto instead.\n",
            "\n",
            "WARNING:tensorflow:From /usr/local/lib/python3.6/dist-packages/keras/backend/tensorflow_backend.py:207: The name tf.global_variables is deprecated. Please use tf.compat.v1.global_variables instead.\n",
            "\n",
            "WARNING:tensorflow:From /usr/local/lib/python3.6/dist-packages/keras/backend/tensorflow_backend.py:216: The name tf.is_variable_initialized is deprecated. Please use tf.compat.v1.is_variable_initialized instead.\n",
            "\n",
            "WARNING:tensorflow:From /usr/local/lib/python3.6/dist-packages/keras/backend/tensorflow_backend.py:223: The name tf.variables_initializer is deprecated. Please use tf.compat.v1.variables_initializer instead.\n",
            "\n",
            "449/448 [==============================] - 27s 60ms/step - loss: 1.8271 - val_loss: 1.8007\n",
            "Epoch 2/500\n",
            "449/448 [==============================] - 13s 28ms/step - loss: 1.7582 - val_loss: 1.7268\n",
            "Epoch 3/500\n",
            "449/448 [==============================] - 13s 28ms/step - loss: 1.7108 - val_loss: 1.6811\n",
            "Epoch 4/500\n",
            "449/448 [==============================] - 13s 28ms/step - loss: 1.6597 - val_loss: 1.6528\n",
            "Epoch 5/500\n",
            "449/448 [==============================] - 13s 28ms/step - loss: 1.5968 - val_loss: 1.5913\n",
            "Epoch 6/500\n",
            "449/448 [==============================] - 12s 28ms/step - loss: 1.5508 - val_loss: 1.5244\n",
            "Epoch 7/500\n",
            "449/448 [==============================] - 13s 29ms/step - loss: 1.5202 - val_loss: 1.5051\n",
            "Epoch 8/500\n",
            "449/448 [==============================] - 13s 28ms/step - loss: 1.4810 - val_loss: 1.4826\n",
            "Epoch 9/500\n",
            "449/448 [==============================] - 12s 28ms/step - loss: 1.4618 - val_loss: 1.4624\n",
            "Epoch 10/500\n",
            "449/448 [==============================] - 12s 28ms/step - loss: 1.4415 - val_loss: 1.4256\n",
            "Epoch 11/500\n",
            "449/448 [==============================] - 12s 28ms/step - loss: 1.4213 - val_loss: 1.4443\n",
            "Epoch 12/500\n",
            "449/448 [==============================] - 12s 27ms/step - loss: 1.4000 - val_loss: 1.3950\n",
            "Epoch 13/500\n",
            "449/448 [==============================] - 13s 28ms/step - loss: 1.3908 - val_loss: 1.4091\n",
            "Epoch 14/500\n",
            "449/448 [==============================] - 12s 28ms/step - loss: 1.3717 - val_loss: 1.3844\n",
            "Epoch 15/500\n",
            "449/448 [==============================] - 12s 27ms/step - loss: 1.3590 - val_loss: 1.3975\n",
            "Epoch 16/500\n",
            "449/448 [==============================] - 12s 27ms/step - loss: 1.3584 - val_loss: 1.3671\n",
            "Epoch 17/500\n",
            "449/448 [==============================] - 12s 27ms/step - loss: 1.3478 - val_loss: 1.3621\n",
            "Epoch 18/500\n",
            "449/448 [==============================] - 12s 27ms/step - loss: 1.3288 - val_loss: 1.3562\n",
            "Epoch 19/500\n",
            "449/448 [==============================] - 12s 27ms/step - loss: 1.3355 - val_loss: 1.3495\n",
            "Epoch 20/500\n",
            "449/448 [==============================] - 12s 27ms/step - loss: 1.3211 - val_loss: 1.3317\n",
            "Epoch 21/500\n",
            "449/448 [==============================] - 12s 28ms/step - loss: 1.3217 - val_loss: 1.3300\n",
            "Epoch 22/500\n",
            "449/448 [==============================] - 12s 27ms/step - loss: 1.3101 - val_loss: 1.3519\n",
            "Epoch 23/500\n",
            "449/448 [==============================] - 13s 28ms/step - loss: 1.3046 - val_loss: 1.3275\n",
            "Epoch 24/500\n",
            "449/448 [==============================] - 12s 28ms/step - loss: 1.2976 - val_loss: 1.3506\n",
            "Epoch 25/500\n",
            "449/448 [==============================] - 12s 27ms/step - loss: 1.3017 - val_loss: 1.3229\n",
            "Epoch 26/500\n",
            "449/448 [==============================] - 12s 28ms/step - loss: 1.2846 - val_loss: 1.3325\n",
            "Epoch 27/500\n",
            "449/448 [==============================] - 12s 27ms/step - loss: 1.2886 - val_loss: 1.3156\n",
            "Epoch 28/500\n",
            "449/448 [==============================] - 12s 28ms/step - loss: 1.2833 - val_loss: 1.3186\n",
            "Epoch 29/500\n",
            "449/448 [==============================] - 12s 27ms/step - loss: 1.2775 - val_loss: 1.3024\n",
            "Epoch 30/500\n",
            "449/448 [==============================] - 13s 28ms/step - loss: 1.2776 - val_loss: 1.3144\n",
            "Epoch 31/500\n",
            "449/448 [==============================] - 12s 27ms/step - loss: 1.2669 - val_loss: 1.3556\n",
            "Epoch 32/500\n",
            "449/448 [==============================] - 13s 28ms/step - loss: 1.2703 - val_loss: 1.3033\n",
            "Epoch 33/500\n",
            "449/448 [==============================] - 12s 27ms/step - loss: 1.2613 - val_loss: 1.3178\n",
            "Epoch 34/500\n",
            "449/448 [==============================] - 12s 27ms/step - loss: 1.2633 - val_loss: 1.3086\n",
            "Epoch 35/500\n",
            "449/448 [==============================] - 12s 27ms/step - loss: 1.2583 - val_loss: 1.2855\n",
            "Epoch 36/500\n",
            "449/448 [==============================] - 13s 28ms/step - loss: 1.2633 - val_loss: 1.3284\n",
            "Epoch 37/500\n",
            "449/448 [==============================] - 12s 28ms/step - loss: 1.2534 - val_loss: 1.3144\n",
            "Epoch 38/500\n",
            "449/448 [==============================] - 12s 28ms/step - loss: 1.2472 - val_loss: 1.2907\n",
            "Epoch 39/500\n",
            "449/448 [==============================] - 12s 27ms/step - loss: 1.2530 - val_loss: 1.3041\n",
            "Epoch 40/500\n",
            "449/448 [==============================] - 12s 28ms/step - loss: 1.2510 - val_loss: 1.2919\n",
            "Epoch 41/500\n",
            "449/448 [==============================] - 12s 28ms/step - loss: 1.2415 - val_loss: 1.3015\n",
            "Epoch 42/500\n",
            "449/448 [==============================] - 12s 27ms/step - loss: 1.2484 - val_loss: 1.2803\n",
            "Epoch 43/500\n",
            "449/448 [==============================] - 13s 28ms/step - loss: 1.2462 - val_loss: 1.3191\n",
            "Epoch 44/500\n",
            "449/448 [==============================] - 12s 27ms/step - loss: 1.2433 - val_loss: 1.3015\n",
            "Epoch 45/500\n",
            "449/448 [==============================] - 12s 28ms/step - loss: 1.2389 - val_loss: 1.2892\n",
            "Epoch 46/500\n",
            "449/448 [==============================] - 12s 27ms/step - loss: 1.2401 - val_loss: 1.2883\n",
            "Epoch 47/500\n",
            "449/448 [==============================] - 12s 27ms/step - loss: 1.2364 - val_loss: 1.2844\n",
            "Epoch 48/500\n",
            "449/448 [==============================] - 12s 28ms/step - loss: 1.2321 - val_loss: 1.2766\n",
            "Epoch 49/500\n",
            "449/448 [==============================] - 12s 28ms/step - loss: 1.2261 - val_loss: 1.3106\n",
            "Epoch 50/500\n",
            "416/448 [==========================>...] - ETA: 0s - loss: 1.2392"
          ],
          "name": "stdout"
        }
      ]
    },
    {
      "cell_type": "code",
      "metadata": {
        "id": "ylLB0B13F36c",
        "colab_type": "code",
        "colab": {}
      },
      "source": [
        "\n",
        "# Plot training & validation loss values\n",
        "plt.plot(history.history['loss'])\n",
        "plt.plot(history.history['val_loss'])\n",
        "plt.title('Model loss')\n",
        "plt.ylabel('Loss')\n",
        "plt.xlabel('Epoch')\n",
        "plt.legend(['Train', 'Test'], loc='upper left')\n",
        "plt.show()"
      ],
      "execution_count": 0,
      "outputs": []
    },
    {
      "cell_type": "code",
      "metadata": {
        "id": "-jAefmqAOkPh",
        "colab_type": "code",
        "colab": {}
      },
      "source": [
        "model_.save(MODEL_PATH)"
      ],
      "execution_count": 0,
      "outputs": []
    }
  ]
}